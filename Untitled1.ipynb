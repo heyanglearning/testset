{
 "cells": [
  {
   "cell_type": "markdown",
   "metadata": {},
   "source": [
    "# <font color='#F57C00'>智慧食堂数据统计及分析\n",
    "## <font color='#F57C00'>时间段：2020-9-4 00:00:00 ~ 2020-9-22 14:30\n",
    "### <font color='#F57C00'>一.充值\n",
    "### <font color='#F57C00'>共<font color='red'> 372  </font>单 无重复订单 共充值<font color='red'> 38003 </font>元\n",
    "### <font color='#F57C00'>充值之最: 最高金额：一共<font color='red'> 37 </font>人充值<font color='red'> 500 </font>元\n",
    "### <font color='#F57C00'>充值之最: 最低金额：一共<font color='red'> 5 </font>人充值<font color='red'> 1 </font>元\n",
    "### <font color='#F57C00'>充值之最: 充值大于等于100元的：一共<font color='red'> 197 </font>人\n",
    "### <font color='#F57C00'>充值之最: 充值小于100元的：一共<font color='red'> 175 </font>人\n",
    "<img src='./充值柱状图.jpg' />\n",
    "    \n",
    "### <font color='#F57C00'>二.消费\n",
    "### <font color='#F57C00'>共<font color='red'> 2470 </font>单 共消费<font color='red'> 16857 </font>元\n",
    "### <font color='#F57C00'>平均每单消费<font color='red'> 6.81 </font>元\n",
    "<img src='./订单柱状图.jpg'/>\n",
    "\n",
    "### <font color='#F57C00'>三.刷脸机器统计 统计截止23日10点\n",
    "<img src='./刷脸机器销售额统计.jpg'/>\n",
    "    \n",
    "<img src='./各刷脸机每日消费金额统计.jpg'/>\n",
    "    \n",
    "### <font color='F57C00'>四.档口统计 统计截止23日10点\n",
    "<img src='./档口销售额总计.jpg'/>\n",
    "\n",
    "<img src='每日每个档口消费金额.jpg'/>\n",
    "    \n",
    "### <font color='F57C00'>五.餐别统计 统计截止23日10点\n",
    "<img src='./餐别销售额总计.jpg'/>\n",
    "\n",
    "<img src='./每日不同餐别消费金额.jpg'/>"
   ]
  },
  {
   "cell_type": "code",
   "execution_count": null,
   "metadata": {},
   "outputs": [],
   "source": []
  }
 ],
 "metadata": {
  "kernelspec": {
   "display_name": "Python 3",
   "language": "python",
   "name": "python3"
  },
  "language_info": {
   "codemirror_mode": {
    "name": "ipython",
    "version": 3
   },
   "file_extension": ".py",
   "mimetype": "text/x-python",
   "name": "python",
   "nbconvert_exporter": "python",
   "pygments_lexer": "ipython3",
   "version": "3.6.10"
  }
 },
 "nbformat": 4,
 "nbformat_minor": 4
}
